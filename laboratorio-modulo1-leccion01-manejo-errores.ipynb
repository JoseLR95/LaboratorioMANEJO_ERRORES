{
 "cells": [
  {
   "cell_type": "markdown",
   "metadata": {},
   "source": [
    "\n",
    "<div style=\"text-align: center;\">\n",
    "  <img src=\"https://github.com/Hack-io-Data/Imagenes/blob/main/01-LogosHackio/logo_celeste@4x.png?raw=true\" alt=\"esquema\" />\n",
    "</div>\n"
   ]
  },
  {
   "cell_type": "markdown",
   "metadata": {},
   "source": [
    "# Laboratorio de Python: manejo de errores."
   ]
  },
  {
   "cell_type": "markdown",
   "metadata": {},
   "source": [
    "## Ejercicio 1: División con manejo de excepciones\n",
    "\n",
    "Escribe un programa que pida al usuario dos números e intente dividirlos. Si el usuario ingresa un valor no numérico o intenta dividir por cero, maneja esas excepciones de manera adecuada. Asegúrate de mostrar un mensaje indicando si la división fue exitosa o no.\n"
   ]
  },
  {
   "cell_type": "code",
   "execution_count": 1,
   "metadata": {},
   "outputs": [
    {
     "name": "stdout",
     "output_type": "stream",
     "text": [
      "Division exitosa\n"
     ]
    },
    {
     "data": {
      "text/plain": [
       "0.5"
      ]
     },
     "execution_count": 1,
     "metadata": {},
     "output_type": "execute_result"
    }
   ],
   "source": [
    "def division():\n",
    "    try:\n",
    "        numero1 = int(input(\"Ingresa el primer numero que quieres divivir\"))\n",
    "        numero2 = int(input(\"Ingresa el numero por el que quieres divir el numero anterior\"))\n",
    "        resultado = numero1 / numero2\n",
    "        print (\"Division exitosa\")\n",
    "        return resultado\n",
    "    except ZeroDivisionError:\n",
    "            print (\"No se puede dividir entre 0\")\n",
    "    except ValueError:\n",
    "        print (\"valor introducido no numerico\")\n",
    "division()\n"
   ]
  },
  {
   "cell_type": "markdown",
   "metadata": {},
   "source": [
    "## Ejercicio 2: Acceso a archivos\n",
    "\n",
    "Escribe un programa que intente abrir un archivo llamado \"datos.txt\". Si el archivo no existe, captura la excepción y muestra un mensaje de error. Asegúrate de cerrar el archivo correctamente en la sección `finally`.\n"
   ]
  },
  {
   "cell_type": "code",
   "execution_count": 2,
   "metadata": {},
   "outputs": [
    {
     "name": "stdout",
     "output_type": "stream",
     "text": [
      "El nombre del archivo es erroneo\n",
      "El archivo no se ha abierto\n"
     ]
    }
   ],
   "source": [
    "def abrir_archivo_datos():\n",
    "    archivo = None\n",
    "    try:\n",
    "        archivo = open(datos.txt)\n",
    "    except NameError:\n",
    "        print(\"El nombre del archivo es erroneo\")\n",
    "    except UnboundLocalError:\n",
    "        print(\"El archivo no existe\")\n",
    "    finally:\n",
    "        if archivo is not None:\n",
    "            archivo.close()\n",
    "        else:\n",
    "            print (\"El archivo no se ha abierto\")\n",
    "abrir_archivo_datos()"
   ]
  },
  {
   "cell_type": "markdown",
   "metadata": {},
   "source": [
    "## Ejercicio 3: Conversión de cadenas a enteros\n",
    "\n",
    "Escribe un programa que pida una lista de números separados por comas y convierta cada valor a un número entero. Maneja las excepciones para valores que no sean convertibles y asegúrate de informar si la conversión fue exitosa o no.\n"
   ]
  },
  {
   "cell_type": "code",
   "execution_count": 3,
   "metadata": {},
   "outputs": [
    {
     "name": "stdout",
     "output_type": "stream",
     "text": [
      "conversion exitosa\n"
     ]
    },
    {
     "data": {
      "text/plain": [
       "[1, 2, 3, 4, 5]"
      ]
     },
     "execution_count": 3,
     "metadata": {},
     "output_type": "execute_result"
    }
   ],
   "source": [
    "def conversion_enteros():\n",
    "    lista = input(\"introduce una lista separada por comas\").split(\",\")\n",
    "    numeros = []\n",
    "    try:\n",
    "        for x in lista:\n",
    "            numero = int(x)\n",
    "            numeros.append(numero)\n",
    "        print (\"conversion exitosa\")\n",
    "        return numeros\n",
    "    except ValueError:\n",
    "        print(\"Introducido valor no numerico\")\n",
    "\n",
    "conversion_enteros()"
   ]
  },
  {
   "cell_type": "markdown",
   "metadata": {},
   "source": [
    "#### Ejercicio 4: Cálculo del promedio con manejo de excepciones\n",
    "\n",
    "Escribe una función que reciba una lista de números y calcule su promedio. Si la lista está vacía, lanza una excepción personalizada y maneja el error adecuadamente.\n"
   ]
  },
  {
   "cell_type": "code",
   "execution_count": 4,
   "metadata": {},
   "outputs": [
    {
     "name": "stdout",
     "output_type": "stream",
     "text": [
      "El promedio de la lista es 4.857142857142857\n",
      "La lista está vacía\n"
     ]
    }
   ],
   "source": [
    "lista1 = [1,2,3,4,7,8,9]\n",
    "lista2 = []\n",
    "def promedio(lista):\n",
    "    try:\n",
    "        promedio = sum(lista) / len(lista)\n",
    "        print (f\"El promedio de la lista es {promedio}\")\n",
    "    except ZeroDivisionError:\n",
    "        print(\"La lista está vacía\")\n",
    "promedio(lista1)\n",
    "promedio(lista2)\n"
   ]
  },
  {
   "cell_type": "markdown",
   "metadata": {},
   "source": [
    "#### Ejercicio 5: Conversión segura de números\n",
    "\n",
    "Escribe un programa que convierta una cadena a número flotante e intente realizar una operación aritmética. Si la conversión falla, maneja la excepción y continúa con el flujo normal."
   ]
  },
  {
   "cell_type": "code",
   "execution_count": 5,
   "metadata": {},
   "outputs": [],
   "source": [
    "cadena = \"cadena de ejemplo\"\n",
    "def conversion_numeros(cadena):\n",
    "    try:\n",
    "        cadena = cadena\n",
    "        cadena_separada = cadena.split(\" \")\n",
    "        cadena_float = float(cadena_separada)\n",
    "    except TypeError:\n",
    "        pass\n",
    "\n",
    "conversion_numeros(cadena)\n"
   ]
  },
  {
   "cell_type": "markdown",
   "metadata": {},
   "source": [
    "#### Ejercicio 6: Acceso a claves en diccionarios\n",
    "\n",
    "Escribe un programa que intente acceder a una clave específica en un diccionario. Si la clave no existe, maneja la excepción `KeyError` y muestra un mensaje indicando el problema."
   ]
  },
  {
   "cell_type": "code",
   "execution_count": 7,
   "metadata": {},
   "outputs": [
    {
     "name": "stdout",
     "output_type": "stream",
     "text": [
      "La clave a la que se intenta acceder no existe\n"
     ]
    }
   ],
   "source": [
    "diccionario = {\"fruta\": \"pera\", \"color\": \"verde\"}\n",
    "palabra = \"casa\"\n",
    "def acceso_claves(palabra):\n",
    "    try:\n",
    "        return diccionario[palabra]\n",
    "    except KeyError:\n",
    "        print(\"La clave a la que se intenta acceder no existe\")\n",
    "acceso_claves(palabra)"
   ]
  },
  {
   "cell_type": "markdown",
   "metadata": {},
   "source": [
    "\n",
    "#### Ejercicio 7: Verificación de entradas de usuario\n",
    "\n",
    "Escribe un programa que pida al usuario que introduzca su edad. Si el usuario ingresa un valor no numérico o un valor fuera del rango esperado (por ejemplo, menor que 0 o mayor que 120), maneja las excepciones adecuadamente."
   ]
  },
  {
   "cell_type": "code",
   "execution_count": 8,
   "metadata": {},
   "outputs": [
    {
     "name": "stdout",
     "output_type": "stream",
     "text": [
      "Registrado\n"
     ]
    }
   ],
   "source": [
    "def verificacion_edad():\n",
    "    try:\n",
    "        edad = int(input(\"Introduce tu edad\"))\n",
    "        if edad in range(0,119):\n",
    "            print (\"Registrado\")\n",
    "        else:\n",
    "            print(\"Edad no valida\")\n",
    "    except ValueError:\n",
    "        print (\"Valor introducido no valido\")\n",
    "verificacion_edad()\n"
   ]
  },
  {
   "cell_type": "markdown",
   "metadata": {},
   "source": [
    "#### Ejercicio 8: Extracción de valores de una lista\n",
    "\n",
    "Escribe una función que intente acceder a un índice específico en una lista. Si el índice está fuera del rango, maneja la excepción `IndexError` y muestra un mensaje adecuado.\n"
   ]
  },
  {
   "cell_type": "code",
   "execution_count": 11,
   "metadata": {},
   "outputs": [
    {
     "name": "stdout",
     "output_type": "stream",
     "text": [
      "Indice introducido fuera de rango\n"
     ]
    },
    {
     "data": {
      "text/plain": [
       "8"
      ]
     },
     "execution_count": 11,
     "metadata": {},
     "output_type": "execute_result"
    }
   ],
   "source": [
    "lista = [1,5,8,9]\n",
    "def acceder_lista(valor):\n",
    "    try:\n",
    "        return lista [valor]\n",
    "    except IndexError:\n",
    "        print (\"Indice introducido fuera de rango\")\n",
    "acceder_lista(6)\n",
    "acceder_lista(2)"
   ]
  }
 ],
 "metadata": {
  "kernelspec": {
   "display_name": "Python 3",
   "language": "python",
   "name": "python3"
  },
  "language_info": {
   "codemirror_mode": {
    "name": "ipython",
    "version": 3
   },
   "file_extension": ".py",
   "mimetype": "text/x-python",
   "name": "python",
   "nbconvert_exporter": "python",
   "pygments_lexer": "ipython3",
   "version": "3.12.5"
  }
 },
 "nbformat": 4,
 "nbformat_minor": 2
}
